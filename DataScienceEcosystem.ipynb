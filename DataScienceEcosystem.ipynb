{
  "metadata": {
    "language_info": {
      "codemirror_mode": {
        "name": "python",
        "version": 3
      },
      "file_extension": ".py",
      "mimetype": "text/x-python",
      "name": "python",
      "nbconvert_exporter": "python",
      "pygments_lexer": "ipython3",
      "version": "3.8"
    },
    "kernelspec": {
      "name": "python",
      "display_name": "Python (Pyodide)",
      "language": "python"
    }
  },
  "nbformat_minor": 4,
  "nbformat": 4,
  "cells": [
    {
      "cell_type": "markdown",
      "source": "# Data Science Tools and Ecosystem",
      "metadata": {
        "tags": []
      }
    },
    {
      "cell_type": "markdown",
      "source": "Data science tools include programming languages like Python and R, libraries such as NumPy and Pandas for data manipulation and analysis, visualization tools like Matplotlib and Plotly, machine learning frameworks like Scikit-learn and TensorFlow, and big data processing tools such as Hadoop and Spark. These tools enable data scientists to extract insights from large datasets and build predictive models.",
      "metadata": {}
    },
    {
      "cell_type": "markdown",
      "source": "Some of the popular languages that Data Scientists use are\n1. python\n2. R\n3. julia\n4. scala\n5. SQL\n6. java\n",
      "metadata": {}
    },
    {
      "cell_type": "markdown",
      "source": "Some of the commonly used libraries used by Data Scientists are:\n1. NumPy\n2. Pandas\n3. scikit-learn\n4. TensorFlow\n5. PyTorch\n6. Keras",
      "metadata": {}
    },
    {
      "cell_type": "markdown",
      "source": "**Objective:**\nThe objective of Jupyter Notebook is to provide an interactive, web-based environment for data analysis, exploration, and collaboration. It allows users to combine live code, visualizations, and explanatory text in a single document, making it easier to develop, document, and share data science workflows and findings.\n\nItems covered in this notebook are:\n- visualization\n- combination of code\n- comments\n- mark down shells\n- tables\n- ordered and unordered lists",
      "metadata": {}
    },
    {
      "cell_type": "markdown",
      "source": "|Data Science Tools|\n|--------------|\n|Jupyter Notebook|\n|RStudio|\n|Apache Hadoop|",
      "metadata": {}
    },
    {
      "cell_type": "markdown",
      "source": "### Below are a few examples of evaluating arithmetic expressions in Python",
      "metadata": {}
    },
    {
      "cell_type": "raw",
      "source": "1. result = 3 + 4 * 2 - 1\n   print(result)  # Output: 10\n   \n   \n2. x = 5\n   y = 2\n   result = x ** y + (x % y)\n   print(result)  # Output: 26\n   \n",
      "metadata": {}
    },
    {
      "cell_type": "code",
      "source": "#This a simple arithmetic expression to mutiply then add integers\nnum1 = int(input(\"Enter the first number: \"))\nnum2 = int(input(\"Enter the second number: \"))\nproduct = num1 * num2\nsum = num1 + num2\nprint(\"The product is:\", product)\nprint(\"The sum is:\", sum)\n",
      "metadata": {},
      "execution_count": null,
      "outputs": []
    },
    {
      "cell_type": "code",
      "source": "#This will convert 200 minutes to hours by diving by 60.\nminutes = 200\nhours = minutes / 60\n\nprint(\"200 minutes is equal to\", hours, \"hours\")\n",
      "metadata": {},
      "execution_count": null,
      "outputs": []
    },
    {
      "cell_type": "markdown",
      "source": "## Author",
      "metadata": {}
    }
  ]
}